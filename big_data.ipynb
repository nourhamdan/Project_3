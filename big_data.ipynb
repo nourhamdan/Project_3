{
  "nbformat": 4,
  "nbformat_minor": 0,
  "metadata": {
    "colab": {
      "name": "big_data.ipynb",
      "provenance": [],
      "collapsed_sections": []
    },
    "kernelspec": {
      "name": "python3",
      "display_name": "Python 3"
    },
    "language_info": {
      "name": "python"
    }
  },
  "cells": [
    {
      "cell_type": "code",
      "metadata": {
        "colab": {
          "base_uri": "https://localhost:8080/"
        },
        "id": "R48JdwVFuTaD",
        "outputId": "32e593c9-8551-4bb1-fc5f-9029e20a3ade"
      },
      "source": [
        "import os\n",
        "# Find the latest version of spark 3.0  from http://www-us.apache.org/dist/spark/ and enter as the spark version\n",
        "# For example:\n",
        "# spark_version = 'spark-3..3'\n",
        "spark_version = 'spark-3.0.3'\n",
        "os.environ['SPARK_VERSION']=spark_version\n",
        "\n",
        "# Install Spark and Java\n",
        "!apt-get update\n",
        "!apt-get install openjdk-11-jdk-headless -qq > /dev/null\n",
        "!wget -q http://www-us.apache.org/dist/spark/$SPARK_VERSION/$SPARK_VERSION-bin-hadoop2.7.tgz\n",
        "!tar xf $SPARK_VERSION-bin-hadoop2.7.tgz\n",
        "!pip install -q findspark\n",
        "\n",
        "# Set Environment Variables\n",
        "os.environ[\"JAVA_HOME\"] = \"/usr/lib/jvm/java-11-openjdk-amd64\"\n",
        "os.environ[\"SPARK_HOME\"] = f\"/content/{spark_version}-bin-hadoop2.7\"\n",
        "\n",
        "# Start a SparkSession\n",
        "import findspark\n",
        "findspark.init()"
      ],
      "execution_count": 1,
      "outputs": [
        {
          "output_type": "stream",
          "text": [
            "\r0% [Working]\r            \rHit:1 https://cloud.r-project.org/bin/linux/ubuntu bionic-cran40/ InRelease\n",
            "\r0% [Connecting to archive.ubuntu.com (91.189.88.152)] [Connecting to security.u\r0% [1 InRelease gpgv 3,626 B] [Connecting to archive.ubuntu.com (91.189.88.152)\r                                                                               \rHit:2 http://security.ubuntu.com/ubuntu bionic-security InRelease\n",
            "\r0% [1 InRelease gpgv 3,626 B] [Waiting for headers] [Waiting for headers] [Wait\r                                                                               \rIgn:3 https://developer.download.nvidia.com/compute/cuda/repos/ubuntu1804/x86_64  InRelease\n",
            "\r0% [1 InRelease gpgv 3,626 B] [Waiting for headers] [Waiting for headers] [Wait\r                                                                               \rHit:4 http://ppa.launchpad.net/c2d4u.team/c2d4u4.0+/ubuntu bionic InRelease\n",
            "\r0% [1 InRelease gpgv 3,626 B] [Waiting for headers] [Connecting to ppa.launchpa\r                                                                               \rHit:5 http://archive.ubuntu.com/ubuntu bionic InRelease\n",
            "\r0% [1 InRelease gpgv 3,626 B] [Connecting to ppa.launchpad.net (91.189.95.85)] \r                                                                               \rIgn:6 https://developer.download.nvidia.com/compute/machine-learning/repos/ubuntu1804/x86_64  InRelease\n",
            "\r0% [1 InRelease gpgv 3,626 B] [Waiting for headers] [Connecting to ppa.launchpa\r                                                                               \rHit:7 https://developer.download.nvidia.com/compute/cuda/repos/ubuntu1804/x86_64  Release\n",
            "\r0% [1 InRelease gpgv 3,626 B] [Waiting for headers] [Connecting to ppa.launchpa\r                                                                               \rHit:8 https://developer.download.nvidia.com/compute/machine-learning/repos/ubuntu1804/x86_64  Release\n",
            "Hit:9 http://archive.ubuntu.com/ubuntu bionic-updates InRelease\n",
            "Hit:10 http://ppa.launchpad.net/cran/libgit2/ubuntu bionic InRelease\n",
            "Hit:11 http://archive.ubuntu.com/ubuntu bionic-backports InRelease\n",
            "Hit:12 http://ppa.launchpad.net/deadsnakes/ppa/ubuntu bionic InRelease\n",
            "Hit:13 http://ppa.launchpad.net/graphics-drivers/ppa/ubuntu bionic InRelease\n",
            "Reading package lists... Done\n"
          ],
          "name": "stdout"
        }
      ]
    },
    {
      "cell_type": "code",
      "metadata": {
        "colab": {
          "base_uri": "https://localhost:8080/"
        },
        "id": "_DagILlACqOy",
        "outputId": "5b18379c-2c88-439a-c712-bd6ef373f12b"
      },
      "source": [
        "!wget https://jdbc.postgresql.org/download/postgresql-42.2.23.jar"
      ],
      "execution_count": 2,
      "outputs": [
        {
          "output_type": "stream",
          "text": [
            "--2021-07-17 16:03:59--  https://jdbc.postgresql.org/download/postgresql-42.2.23.jar\n",
            "Resolving jdbc.postgresql.org (jdbc.postgresql.org)... 72.32.157.228, 2001:4800:3e1:1::228\n",
            "Connecting to jdbc.postgresql.org (jdbc.postgresql.org)|72.32.157.228|:443... connected.\n",
            "HTTP request sent, awaiting response... 200 OK\n",
            "Length: 1005522 (982K) [application/java-archive]\n",
            "Saving to: ‘postgresql-42.2.23.jar.3’\n",
            "\n",
            "postgresql-42.2.23. 100%[===================>] 981.96K  5.72MB/s    in 0.2s    \n",
            "\n",
            "2021-07-17 16:04:00 (5.72 MB/s) - ‘postgresql-42.2.23.jar.3’ saved [1005522/1005522]\n",
            "\n"
          ],
          "name": "stdout"
        }
      ]
    },
    {
      "cell_type": "code",
      "metadata": {
        "id": "VC0OEGhmuYyE"
      },
      "source": [
        "from pyspark.sql import SparkSession\n",
        "\n",
        "spark = SparkSession.builder.appName(\"SpotifyAnalysis\").config(\"spark.jars\", \"postgresql-42.2.23.jar.2\") \\\n",
        "    .getOrCreate()"
      ],
      "execution_count": 3,
      "outputs": []
    },
    {
      "cell_type": "code",
      "metadata": {
        "colab": {
          "base_uri": "https://localhost:8080/"
        },
        "id": "qiy2xuULniPh",
        "outputId": "6d9ead37-1319-4d22-d991-695f46c12340"
      },
      "source": [
        "from pyspark import SparkFiles\n",
        "\n",
        "url = 'https://spotify-bucket-washu.s3.us-east-2.amazonaws.com/tracks.csv'\n",
        "spark.sparkContext.addFile(url)\n",
        "\n",
        "\n",
        "spotify_df = spark.read.option('header', 'true').csv(SparkFiles.get(\"tracks.csv\"), inferSchema=True, timestampFormat=\"mm/dd/yy\")\n",
        "spotify_df.show(10)"
      ],
      "execution_count": 4,
      "outputs": [
        {
          "output_type": "stream",
          "text": [
            "+--------------------+--------------------+----------+-----------+--------+-------------------+--------------------+------------+------------+------+---+--------+----+-----------+------------+----------------+--------+-------+-------+--------------+\n",
            "|                  id|                name|popularity|duration_ms|explicit|            artists|          id_artists|release_date|danceability|energy|key|loudness|mode|speechiness|acousticness|instrumentalness|liveness|valence|  tempo|time_signature|\n",
            "+--------------------+--------------------+----------+-----------+--------+-------------------+--------------------+------------+------------+------+---+--------+----+-----------+------------+----------------+--------+-------+-------+--------------+\n",
            "|35iwgR4jXetI318WE...|               Carve|         6|     126903|       0|            ['Uli']|['45tIt06XoI0Iio4...|  1922-02-22|       0.645| 0.445|  0| -13.338|   1|      0.451|       0.674|           0.744|   0.151|  0.127|104.851|             3|\n",
            "|021ht4sdgPcrDgSk7...|Capítulo 2.16 - B...|         0|      98200|       0|['Fernando Pessoa']|['14jtPCOoNZwquk5...|  1922-06-01|       0.695| 0.263|  0| -22.136|   1|      0.957|       0.797|             0.0|   0.148|  0.655|102.009|             1|\n",
            "|07A5yehtSnoedViJA...|Vivo para Querert...|         0|     181640|       0|['Ignacio Corsini']|['5LiOoJbxVSAMkBS...|  1922-03-21|       0.434| 0.177|  1|  -21.18|   1|     0.0512|       0.994|          0.0218|   0.212|  0.457|130.418|             5|\n",
            "|08FmqUhxtyLTn6pAh...|El Prisionero - R...|         0|     176907|       0|['Ignacio Corsini']|['5LiOoJbxVSAMkBS...|  1922-03-21|       0.321|0.0946|  7| -27.961|   1|     0.0504|       0.995|           0.918|   0.104|  0.397| 169.98|             3|\n",
            "|08y9GfoqCWfOGsKdw...| Lady of the Evening|         0|     163080|       0|    ['Dick Haymes']|['3BiJGZsyX9sJchT...|        1922|       0.402| 0.158|  3|   -16.9|   0|      0.039|       0.989|            0.13|   0.311|  0.196| 103.22|             4|\n",
            "|0BRXJHRNGQ3W4v9fr...|           Ave Maria|         0|     178933|       0|    ['Dick Haymes']|['3BiJGZsyX9sJchT...|        1922|       0.227| 0.261|  5| -12.343|   1|     0.0382|       0.994|           0.247|  0.0977| 0.0539|118.891|             4|\n",
            "|0Dd9ImXtAtGwsmsAD...|      La Butte Rouge|         0|     134467|       0|  ['Francis Marty']|['2nuMRGzeJ5jJEKl...|        1922|        0.51| 0.355|  4| -12.833|   1|      0.124|       0.965|             0.0|   0.155|  0.727| 85.754|             5|\n",
            "|0IA0Hju8CAgYfV1hw...|             La Java|         0|     161427|       0|    ['Mistinguett']|['4AxgXfD7ISvJSTO...|        1922|       0.563| 0.184|  4| -13.757|   1|     0.0512|       0.993|        1.55e-05|   0.325|  0.654|133.088|             3|\n",
            "|0IgI1UCz84pYeVetn...|  Old Fashioned Girl|         0|     310073|       0|    ['Greg Fieler']|['5nWlsH5RDgFuRAi...|        1922|       0.488| 0.475|  0| -16.222|   0|     0.0399|        0.62|         0.00645|   0.107|  0.544|139.952|             4|\n",
            "|0JV4iqw2lSKJaHBQZ...|Martín Fierro - R...|         0|     181173|       0|['Ignacio Corsini']|['5LiOoJbxVSAMkBS...|  1922-03-29|       0.548|0.0391|  6| -23.228|   1|      0.153|       0.996|           0.933|   0.148|  0.612| 75.595|             3|\n",
            "+--------------------+--------------------+----------+-----------+--------+-------------------+--------------------+------------+------------+------+---+--------+----+-----------+------------+----------------+--------+-------+-------+--------------+\n",
            "only showing top 10 rows\n",
            "\n"
          ],
          "name": "stdout"
        }
      ]
    },
    {
      "cell_type": "code",
      "metadata": {
        "colab": {
          "base_uri": "https://localhost:8080/"
        },
        "id": "xF4r_smSoJsn",
        "outputId": "73921d8f-a4e3-48c8-f118-91044946611a"
      },
      "source": [
        "pop_df = spotify_df.select(['name','artists','popularity','explicit', 'danceability','loudness', 'speechiness','acousticness','instrumentalness', 'tempo'])\n",
        "pop_df.show(20)"
      ],
      "execution_count": 5,
      "outputs": [
        {
          "output_type": "stream",
          "text": [
            "+--------------------+-------------------+----------+--------+------------+--------+-----------+------------+----------------+-------+\n",
            "|                name|            artists|popularity|explicit|danceability|loudness|speechiness|acousticness|instrumentalness|  tempo|\n",
            "+--------------------+-------------------+----------+--------+------------+--------+-----------+------------+----------------+-------+\n",
            "|               Carve|            ['Uli']|         6|       0|       0.645| -13.338|      0.451|       0.674|           0.744|104.851|\n",
            "|Capítulo 2.16 - B...|['Fernando Pessoa']|         0|       0|       0.695| -22.136|      0.957|       0.797|             0.0|102.009|\n",
            "|Vivo para Querert...|['Ignacio Corsini']|         0|       0|       0.434|  -21.18|     0.0512|       0.994|          0.0218|130.418|\n",
            "|El Prisionero - R...|['Ignacio Corsini']|         0|       0|       0.321| -27.961|     0.0504|       0.995|           0.918| 169.98|\n",
            "| Lady of the Evening|    ['Dick Haymes']|         0|       0|       0.402|   -16.9|      0.039|       0.989|            0.13| 103.22|\n",
            "|           Ave Maria|    ['Dick Haymes']|         0|       0|       0.227| -12.343|     0.0382|       0.994|           0.247|118.891|\n",
            "|      La Butte Rouge|  ['Francis Marty']|         0|       0|        0.51| -12.833|      0.124|       0.965|             0.0| 85.754|\n",
            "|             La Java|    ['Mistinguett']|         0|       0|       0.563| -13.757|     0.0512|       0.993|        1.55e-05|133.088|\n",
            "|  Old Fashioned Girl|    ['Greg Fieler']|         0|       0|       0.488| -16.222|     0.0399|        0.62|         0.00645|139.952|\n",
            "|Martín Fierro - R...|['Ignacio Corsini']|         0|       0|       0.548| -23.228|      0.153|       0.996|           0.933| 75.595|\n",
            "|Capítulo 2.8 - Ba...|['Fernando Pessoa']|         0|       0|       0.676| -22.447|       0.96|       0.794|             0.0| 96.777|\n",
            "|Capítulo 2.25 - B...|['Fernando Pessoa']|         0|       0|        0.75| -22.077|      0.955|       0.578|             0.0|102.629|\n",
            "|            Lazy Boi|            ['Uli']|         0|       0|       0.298| -18.645|      0.453|       0.521|           0.856| 87.921|\n",
            "|Tu Verras Montmartre|   ['Lucien Boyer']|         1|       0|       0.703|  -15.39|      0.174|       0.995|        6.84e-05|127.531|\n",
            "|Elle Prend L'boul...|    ['Félix Mayol']|         0|       0|       0.709| -14.978|       0.18|       0.967|             0.0|107.515|\n",
            "|Capítulo 1.23 - B...|['Fernando Pessoa']|         0|       0|       0.687| -24.264|      0.962|       0.754|             0.0| 78.453|\n",
            "|Capítulo 1.18 - B...|['Fernando Pessoa']|         0|       0|         0.8| -24.384|      0.953|        0.67|             0.0| 59.613|\n",
            "|Capítulo 1.10 - B...|['Fernando Pessoa']|         0|       0|         0.7| -23.874|      0.956|       0.691|             0.0| 85.739|\n",
            "|  Ca C'est Une Chose| ['Victor Boucher']|         0|       0|       0.352| -13.038|     0.0594|       0.996|         0.00746| 76.403|\n",
            "|El Vendaval - Rem...|['Ignacio Corsini']|         0|       0|        0.37| -17.138|     0.0865|       0.985|        0.000681|159.669|\n",
            "+--------------------+-------------------+----------+--------+------------+--------+-----------+------------+----------------+-------+\n",
            "only showing top 20 rows\n",
            "\n"
          ],
          "name": "stdout"
        }
      ]
    },
    {
      "cell_type": "code",
      "metadata": {
        "colab": {
          "base_uri": "https://localhost:8080/"
        },
        "id": "LUcesAostcX8",
        "outputId": "7113a334-0f21-4b8a-a780-e98656096405"
      },
      "source": [
        "total_df = pop_df.groupby('name').agg({'popularity':\"count\", 'acousticness':\"avg\",'danceability':'avg'})\n",
        "total_df.show()"
      ],
      "execution_count": 6,
      "outputs": [
        {
          "output_type": "stream",
          "text": [
            "+--------------------+-----------------+------------------+------------------+\n",
            "|                name|count(popularity)| avg(acousticness)| avg(danceability)|\n",
            "+--------------------+-----------------+------------------+------------------+\n",
            "|Need a Little Sug...|                1|             0.992|             0.693|\n",
            "|Chapter 2.6 - Kró...|                1|             0.735|              0.73|\n",
            "|Chapter 3 - The U...|                1|             0.629|             0.626|\n",
            "|Chapter 1.1 - O J...|                1|             0.567|             0.672|\n",
            "|           Bob White|                3|0.8703333333333334|             0.663|\n",
            "|I've Got a Feelin...|                9|0.8351111111111112|0.5017777777777778|\n",
            "|Everybody Loves M...|                1|             0.996|             0.618|\n",
            "|Chapter 51 - The ...|                1|             0.645|             0.678|\n",
            "|How Deep Is the O...|                2|             0.982|            0.4615|\n",
            "|      Sidewalk Blues|                2|             0.968|             0.571|\n",
            "|      Wild Man Blues|               11|0.9244999999999998|0.6179999999999999|\n",
            "|     Memories of You|               11|0.8515418181818183|             0.478|\n",
            "|Entre Sombras - R...|                1|             0.977|             0.623|\n",
            "|Chapter 42.2 & Ch...|                1|             0.874|             0.709|\n",
            "|Han de Llorar Tus...|                1|             0.995|              0.52|\n",
            "|  Le Paradis Du Rêve|                1|             0.923|             0.401|\n",
            "|Recuerdos De Mi M...|                1|             0.994|             0.768|\n",
            "|Finale Act II: Ol...|                1|             0.976|             0.294|\n",
            "|A Mi Bandera - Re...|                1|             0.995|             0.443|\n",
            "|Largala Nomás - I...|                1|             0.988|             0.836|\n",
            "+--------------------+-----------------+------------------+------------------+\n",
            "only showing top 20 rows\n",
            "\n"
          ],
          "name": "stdout"
        }
      ]
    },
    {
      "cell_type": "code",
      "metadata": {
        "id": "5tXbxowU8U25"
      },
      "source": [
        ""
      ],
      "execution_count": 6,
      "outputs": []
    },
    {
      "cell_type": "code",
      "metadata": {
        "colab": {
          "base_uri": "https://localhost:8080/",
          "height": 249
        },
        "id": "tJX2gquh7aZ6",
        "outputId": "52250bdb-e97d-4389-fbda-ce844cecdf71"
      },
      "source": [
        "acous_df = total_df.groupby(\"name\").agg({\"acousticness\":\"count\"})\\\n",
        "\n",
        "acous_df.orderBy(\"count(acousticness)\").show(truncate=False)"
      ],
      "execution_count": 7,
      "outputs": [
        {
          "output_type": "error",
          "ename": "AnalysisException",
          "evalue": "ignored",
          "traceback": [
            "\u001b[0;31m---------------------------------------------------------------------------\u001b[0m",
            "\u001b[0;31mAnalysisException\u001b[0m                         Traceback (most recent call last)",
            "\u001b[0;32m<ipython-input-7-423b9eb7d055>\u001b[0m in \u001b[0;36m<module>\u001b[0;34m()\u001b[0m\n\u001b[0;32m----> 1\u001b[0;31m \u001b[0macous_df\u001b[0m \u001b[0;34m=\u001b[0m \u001b[0mtotal_df\u001b[0m\u001b[0;34m.\u001b[0m\u001b[0mgroupby\u001b[0m\u001b[0;34m(\u001b[0m\u001b[0;34m\"name\"\u001b[0m\u001b[0;34m)\u001b[0m\u001b[0;34m.\u001b[0m\u001b[0magg\u001b[0m\u001b[0;34m(\u001b[0m\u001b[0;34m{\u001b[0m\u001b[0;34m\"acousticness\"\u001b[0m\u001b[0;34m:\u001b[0m\u001b[0;34m\"count\"\u001b[0m\u001b[0;34m}\u001b[0m\u001b[0;34m)\u001b[0m\u001b[0;34m\u001b[0m\u001b[0;34m\u001b[0m\u001b[0m\n\u001b[0m\u001b[1;32m      2\u001b[0m \u001b[0macous_df\u001b[0m\u001b[0;34m.\u001b[0m\u001b[0morderBy\u001b[0m\u001b[0;34m(\u001b[0m\u001b[0;34m\"count(acousticness)\"\u001b[0m\u001b[0;34m)\u001b[0m\u001b[0;34m.\u001b[0m\u001b[0mshow\u001b[0m\u001b[0;34m(\u001b[0m\u001b[0mtruncate\u001b[0m\u001b[0;34m=\u001b[0m\u001b[0;32mFalse\u001b[0m\u001b[0;34m)\u001b[0m\u001b[0;34m\u001b[0m\u001b[0;34m\u001b[0m\u001b[0m\n",
            "\u001b[0;32m/content/spark-3.0.3-bin-hadoop2.7/python/pyspark/sql/group.py\u001b[0m in \u001b[0;36magg\u001b[0;34m(self, *exprs)\u001b[0m\n\u001b[1;32m    107\u001b[0m         \u001b[0;32massert\u001b[0m \u001b[0mexprs\u001b[0m\u001b[0;34m,\u001b[0m \u001b[0;34m\"exprs should not be empty\"\u001b[0m\u001b[0;34m\u001b[0m\u001b[0;34m\u001b[0m\u001b[0m\n\u001b[1;32m    108\u001b[0m         \u001b[0;32mif\u001b[0m \u001b[0mlen\u001b[0m\u001b[0;34m(\u001b[0m\u001b[0mexprs\u001b[0m\u001b[0;34m)\u001b[0m \u001b[0;34m==\u001b[0m \u001b[0;36m1\u001b[0m \u001b[0;32mand\u001b[0m \u001b[0misinstance\u001b[0m\u001b[0;34m(\u001b[0m\u001b[0mexprs\u001b[0m\u001b[0;34m[\u001b[0m\u001b[0;36m0\u001b[0m\u001b[0;34m]\u001b[0m\u001b[0;34m,\u001b[0m \u001b[0mdict\u001b[0m\u001b[0;34m)\u001b[0m\u001b[0;34m:\u001b[0m\u001b[0;34m\u001b[0m\u001b[0;34m\u001b[0m\u001b[0m\n\u001b[0;32m--> 109\u001b[0;31m             \u001b[0mjdf\u001b[0m \u001b[0;34m=\u001b[0m \u001b[0mself\u001b[0m\u001b[0;34m.\u001b[0m\u001b[0m_jgd\u001b[0m\u001b[0;34m.\u001b[0m\u001b[0magg\u001b[0m\u001b[0;34m(\u001b[0m\u001b[0mexprs\u001b[0m\u001b[0;34m[\u001b[0m\u001b[0;36m0\u001b[0m\u001b[0;34m]\u001b[0m\u001b[0;34m)\u001b[0m\u001b[0;34m\u001b[0m\u001b[0;34m\u001b[0m\u001b[0m\n\u001b[0m\u001b[1;32m    110\u001b[0m         \u001b[0;32melse\u001b[0m\u001b[0;34m:\u001b[0m\u001b[0;34m\u001b[0m\u001b[0;34m\u001b[0m\u001b[0m\n\u001b[1;32m    111\u001b[0m             \u001b[0;31m# Columns\u001b[0m\u001b[0;34m\u001b[0m\u001b[0;34m\u001b[0m\u001b[0;34m\u001b[0m\u001b[0m\n",
            "\u001b[0;32m/content/spark-3.0.3-bin-hadoop2.7/python/lib/py4j-0.10.9-src.zip/py4j/java_gateway.py\u001b[0m in \u001b[0;36m__call__\u001b[0;34m(self, *args)\u001b[0m\n\u001b[1;32m   1303\u001b[0m         \u001b[0manswer\u001b[0m \u001b[0;34m=\u001b[0m \u001b[0mself\u001b[0m\u001b[0;34m.\u001b[0m\u001b[0mgateway_client\u001b[0m\u001b[0;34m.\u001b[0m\u001b[0msend_command\u001b[0m\u001b[0;34m(\u001b[0m\u001b[0mcommand\u001b[0m\u001b[0;34m)\u001b[0m\u001b[0;34m\u001b[0m\u001b[0;34m\u001b[0m\u001b[0m\n\u001b[1;32m   1304\u001b[0m         return_value = get_return_value(\n\u001b[0;32m-> 1305\u001b[0;31m             answer, self.gateway_client, self.target_id, self.name)\n\u001b[0m\u001b[1;32m   1306\u001b[0m \u001b[0;34m\u001b[0m\u001b[0m\n\u001b[1;32m   1307\u001b[0m         \u001b[0;32mfor\u001b[0m \u001b[0mtemp_arg\u001b[0m \u001b[0;32min\u001b[0m \u001b[0mtemp_args\u001b[0m\u001b[0;34m:\u001b[0m\u001b[0;34m\u001b[0m\u001b[0;34m\u001b[0m\u001b[0m\n",
            "\u001b[0;32m/content/spark-3.0.3-bin-hadoop2.7/python/pyspark/sql/utils.py\u001b[0m in \u001b[0;36mdeco\u001b[0;34m(*a, **kw)\u001b[0m\n\u001b[1;32m    132\u001b[0m                 \u001b[0;31m# Hide where the exception came from that shows a non-Pythonic\u001b[0m\u001b[0;34m\u001b[0m\u001b[0;34m\u001b[0m\u001b[0;34m\u001b[0m\u001b[0m\n\u001b[1;32m    133\u001b[0m                 \u001b[0;31m# JVM exception message.\u001b[0m\u001b[0;34m\u001b[0m\u001b[0;34m\u001b[0m\u001b[0;34m\u001b[0m\u001b[0m\n\u001b[0;32m--> 134\u001b[0;31m                 \u001b[0mraise_from\u001b[0m\u001b[0;34m(\u001b[0m\u001b[0mconverted\u001b[0m\u001b[0;34m)\u001b[0m\u001b[0;34m\u001b[0m\u001b[0;34m\u001b[0m\u001b[0m\n\u001b[0m\u001b[1;32m    135\u001b[0m             \u001b[0;32melse\u001b[0m\u001b[0;34m:\u001b[0m\u001b[0;34m\u001b[0m\u001b[0;34m\u001b[0m\u001b[0m\n\u001b[1;32m    136\u001b[0m                 \u001b[0;32mraise\u001b[0m\u001b[0;34m\u001b[0m\u001b[0;34m\u001b[0m\u001b[0m\n",
            "\u001b[0;32m/content/spark-3.0.3-bin-hadoop2.7/python/pyspark/sql/utils.py\u001b[0m in \u001b[0;36mraise_from\u001b[0;34m(e)\u001b[0m\n",
            "\u001b[0;31mAnalysisException\u001b[0m: Cannot resolve column name \"acousticness\" among (name, count(popularity), avg(acousticness), avg(danceability));"
          ]
        }
      ]
    },
    {
      "cell_type": "code",
      "metadata": {
        "id": "iE6j2BIc5_Z3"
      },
      "source": [
        "from pyspark.sql.types import * "
      ],
      "execution_count": 8,
      "outputs": []
    },
    {
      "cell_type": "code",
      "metadata": {
        "colab": {
          "base_uri": "https://localhost:8080/"
        },
        "id": "nAgPpjaN3_NJ",
        "outputId": "e8c2bec5-835f-4729-fe50-7a02d675f112"
      },
      "source": [
        "final_df = pop_df.withColumn(\"popularity\",pop_df[\"popularity\"].cast(IntegerType()))\\\n",
        "    .withColumn(\"explicit\",pop_df[\"explicit\"].cast(IntegerType()))\\\n",
        "    .withColumn(\"danceability\",pop_df[\"danceability\"].cast(IntegerType()))\\\n",
        "    .withColumn(\"loudness\",pop_df[\"loudness\"].cast(IntegerType()))\\\n",
        "    .withColumn(\"speechiness\",pop_df[\"speechiness\"].cast(IntegerType()))\\\n",
        "    .withColumn(\"acousticness\",pop_df[\"acousticness\"].cast(IntegerType()))\\\n",
        "    .withColumn(\"instrumentalness\",pop_df[\"instrumentalness\"].cast(IntegerType()))\\\n",
        "    .withColumn(\"tempo\",pop_df[\"tempo\"].cast(IntegerType()))\n",
        "\n",
        "final_df.printSchema()"
      ],
      "execution_count": 9,
      "outputs": [
        {
          "output_type": "stream",
          "text": [
            "root\n",
            " |-- name: string (nullable = true)\n",
            " |-- artists: string (nullable = true)\n",
            " |-- popularity: integer (nullable = true)\n",
            " |-- explicit: integer (nullable = true)\n",
            " |-- danceability: integer (nullable = true)\n",
            " |-- loudness: integer (nullable = true)\n",
            " |-- speechiness: integer (nullable = true)\n",
            " |-- acousticness: integer (nullable = true)\n",
            " |-- instrumentalness: integer (nullable = true)\n",
            " |-- tempo: integer (nullable = true)\n",
            "\n"
          ],
          "name": "stdout"
        }
      ]
    },
    {
      "cell_type": "code",
      "metadata": {
        "id": "aIXueXhS5Qxf"
      },
      "source": [
        "#  Configure settings for RDS\n",
        "# mode = \"append\"\n",
        "# jdbc_url=\"jdbc:postgresql://final-project-team2.chbl5fhaiumv.ca-central-1.rds.amazonaws.com:5432/spotify_db\"\n",
        "# config = {\"user\":\"postgres\", \n",
        "#           \"password\": \"kerrynourbrian\", \n",
        "#          \"driver\":\"org.postgresql.Driver\"}"
      ],
      "execution_count": null,
      "outputs": []
    },
    {
      "cell_type": "code",
      "metadata": {
        "id": "iY7HmMOkHXT5"
      },
      "source": [
        "final_df.write.format(\"jdbc\") \\\n",
        ".option(\"url\", \"jdbc:postgresql://final-project-team2.chbl5fhaiumv.ca-central-1.rds.amazonaws.com:5432/spotify_db\") \\\n",
        ".option(\"dbtable\", \"spotify\") \\\n",
        ".option(\"user\", \"postgres\") \\\n",
        ".option(\"password\", \"kerrynourbrian\") \\\n",
        ".option(\"driver\", \"org.postgresql.Driver\").mode('append').save()"
      ],
      "execution_count": 19,
      "outputs": []
    },
    {
      "cell_type": "code",
      "metadata": {
        "colab": {
          "base_uri": "https://localhost:8080/"
        },
        "id": "qfB-AwP4OAWW",
        "outputId": "f8397c3e-0d47-46c8-f331-8c7d34c713c0"
      },
      "source": [
        "final_df.printSchema()"
      ],
      "execution_count": 18,
      "outputs": [
        {
          "output_type": "stream",
          "text": [
            "root\n",
            " |-- name: string (nullable = true)\n",
            " |-- artists: string (nullable = true)\n",
            " |-- popularity: integer (nullable = true)\n",
            " |-- explicit: integer (nullable = true)\n",
            " |-- danceability: integer (nullable = true)\n",
            " |-- loudness: integer (nullable = true)\n",
            " |-- speechiness: integer (nullable = true)\n",
            " |-- acousticness: integer (nullable = true)\n",
            " |-- instrumentalness: integer (nullable = true)\n",
            " |-- tempo: integer (nullable = true)\n",
            "\n"
          ],
          "name": "stdout"
        }
      ]
    },
    {
      "cell_type": "code",
      "metadata": {
        "colab": {
          "base_uri": "https://localhost:8080/",
          "height": 207
        },
        "id": "a6bDgSFKda9Q",
        "outputId": "a42ed336-7470-4720-c037-1a56de565967"
      },
      "source": [
        "# Write DataFrame to active_user table in RDS\n",
        "\n",
        "final_df.write.jdbc(url=url, table='spotify', properties=config)"
      ],
      "execution_count": 22,
      "outputs": [
        {
          "output_type": "error",
          "ename": "NameError",
          "evalue": "ignored",
          "traceback": [
            "\u001b[0;31m---------------------------------------------------------------------------\u001b[0m",
            "\u001b[0;31mNameError\u001b[0m                                 Traceback (most recent call last)",
            "\u001b[0;32m<ipython-input-22-4f99f7b2ad52>\u001b[0m in \u001b[0;36m<module>\u001b[0;34m()\u001b[0m\n\u001b[1;32m      1\u001b[0m \u001b[0;31m# Write DataFrame to active_user table in RDS\u001b[0m\u001b[0;34m\u001b[0m\u001b[0;34m\u001b[0m\u001b[0;34m\u001b[0m\u001b[0m\n\u001b[1;32m      2\u001b[0m \u001b[0;34m\u001b[0m\u001b[0m\n\u001b[0;32m----> 3\u001b[0;31m \u001b[0mfinal_df\u001b[0m\u001b[0;34m.\u001b[0m\u001b[0mwrite\u001b[0m\u001b[0;34m.\u001b[0m\u001b[0mjdbc\u001b[0m\u001b[0;34m(\u001b[0m\u001b[0murl\u001b[0m\u001b[0;34m=\u001b[0m\u001b[0murl\u001b[0m\u001b[0;34m,\u001b[0m \u001b[0mtable\u001b[0m\u001b[0;34m=\u001b[0m\u001b[0;34m'spotify'\u001b[0m\u001b[0;34m,\u001b[0m \u001b[0mproperties\u001b[0m\u001b[0;34m=\u001b[0m\u001b[0mconfig\u001b[0m\u001b[0;34m)\u001b[0m\u001b[0;34m\u001b[0m\u001b[0;34m\u001b[0m\u001b[0m\n\u001b[0m",
            "\u001b[0;31mNameError\u001b[0m: name 'config' is not defined"
          ]
        }
      ]
    },
    {
      "cell_type": "code",
      "metadata": {
        "id": "Efcv6Ei1N_XG"
      },
      "source": [
        ""
      ],
      "execution_count": null,
      "outputs": []
    },
    {
      "cell_type": "code",
      "metadata": {
        "id": "z1pmsml_dbHL"
      },
      "source": [
        ""
      ],
      "execution_count": null,
      "outputs": []
    },
    {
      "cell_type": "code",
      "metadata": {
        "id": "A3SbQ-p4dbNi"
      },
      "source": [
        ""
      ],
      "execution_count": null,
      "outputs": []
    },
    {
      "cell_type": "code",
      "metadata": {
        "id": "jsNxWJ9jAahP"
      },
      "source": [
        ""
      ],
      "execution_count": null,
      "outputs": []
    }
  ]
}